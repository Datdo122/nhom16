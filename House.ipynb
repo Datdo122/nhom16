{
 "cells": [
  {
   "cell_type": "markdown",
   "id": "3d910322",
   "metadata": {},
   "source": [
    "### 1. Import các thư viện cần thiết"
   ]
  },
  {
   "cell_type": "code",
   "execution_count": null,
   "id": "2e5d3b72",
   "metadata": {},
   "outputs": [],
   "source": [
    "\n",
    "import pandas as pd\n",
    "import numpy as np\n",
    "from sklearn.model_selection import train_test_split\n",
    "from sklearn.preprocessing import StandardScaler, OneHotEncoder\n",
    "from sklearn.impute import SimpleImputer\n",
    "from sklearn.compose import ColumnTransformer\n",
    "from sklearn.pipeline import Pipeline\n",
    "from sklearn.linear_model import LinearRegression, Ridge\n",
    "from sklearn.ensemble import StackingRegressor\n",
    "from sklearn.tree import DecisionTreeRegressor\n",
    "from sklearn.metrics import mean_squared_error, r2_score\n"
   ]
  },
  {
   "cell_type": "markdown",
   "id": "2b62ef3e",
   "metadata": {},
   "source": [
    "### 2. Đọc dữ liệu và chuẩn bị dữ liệu"
   ]
  },
  {
   "cell_type": "code",
   "execution_count": null,
   "id": "6888d5cd",
   "metadata": {},
   "outputs": [],
   "source": [
    "\n",
    "# Đọc dữ liệu từ file CSV\n",
    "data = pd.read_csv('train.csv')\n",
    "\n",
    "# Bỏ cột Id vì không cần thiết cho dự đoán\n",
    "data = data.drop(columns=['Id'])\n",
    "\n",
    "# Tách biến mục tiêu (y) và các đặc trưng (X)\n",
    "X = data.drop(columns=['SalePrice'])\n",
    "y = data['SalePrice']\n",
    "\n",
    "# Hiển thị dữ liệu để kiểm tra\n",
    "data.head()\n"
   ]
  },
  {
   "cell_type": "markdown",
   "id": "f5b6ca05",
   "metadata": {},
   "source": [
    "### 3. Xác định cột số và cột phân loại"
   ]
  },
  {
   "cell_type": "code",
   "execution_count": null,
   "id": "9439b311",
   "metadata": {},
   "outputs": [],
   "source": [
    "\n",
    "# Chọn cột số và cột phân loại\n",
    "num_cols = X.select_dtypes(exclude='object').columns\n",
    "cat_cols = X.select_dtypes(include='object').columns\n",
    "num_cols, cat_cols\n"
   ]
  },
  {
   "cell_type": "markdown",
   "id": "fad36469",
   "metadata": {},
   "source": [
    "### 4. Xử lý tiền xử lý dữ liệu"
   ]
  },
  {
   "cell_type": "code",
   "execution_count": null,
   "id": "af809f4f",
   "metadata": {},
   "outputs": [],
   "source": [
    "\n",
    "# Tạo pipeline xử lý cho dữ liệu số\n",
    "num_pipeline = Pipeline([\n",
    "    ('imputer', SimpleImputer(strategy='mean')),  # Điền giá trị thiếu bằng trung bình\n",
    "    ('scaler', StandardScaler())                  # Chuẩn hóa dữ liệu\n",
    "])\n",
    "\n",
    "# Tạo pipeline xử lý cho dữ liệu phân loại\n",
    "cat_pipeline = Pipeline([\n",
    "    ('imputer', SimpleImputer(strategy='most_frequent')),  # Điền giá trị thiếu bằng giá trị phổ biến nhất\n",
    "    ('onehot', OneHotEncoder(handle_unknown='ignore'))     # Mã hóa one-hot cho dữ liệu phân loại\n",
    "])\n",
    "\n",
    "# Kết hợp các pipeline\n",
    "preprocessor = ColumnTransformer([\n",
    "    ('num', num_pipeline, num_cols),\n",
    "    ('cat', cat_pipeline, cat_cols)\n",
    "])\n"
   ]
  },
  {
   "cell_type": "markdown",
   "id": "6edb7b92",
   "metadata": {},
   "source": [
    "### 5. Chia dữ liệu thành tập huấn luyện và kiểm tra"
   ]
  },
  {
   "cell_type": "code",
   "execution_count": null,
   "id": "72a43543",
   "metadata": {},
   "outputs": [],
   "source": [
    "\n",
    "# Chia dữ liệu thành tập huấn luyện và kiểm tra\n",
    "X_train, X_test, y_train, y_test = train_test_split(X, y, test_size=0.2, random_state=42)\n"
   ]
  },
  {
   "cell_type": "markdown",
   "id": "32fce6e2",
   "metadata": {},
   "source": [
    "### 6. Áp dụng log transformation cho biến mục tiêu"
   ]
  },
  {
   "cell_type": "code",
   "execution_count": null,
   "id": "80a81a3c",
   "metadata": {},
   "outputs": [],
   "source": [
    "\n",
    "# Áp dụng log transformation để giảm skewness\n",
    "y_train_log = np.log1p(y_train)\n",
    "y_test_log = np.log1p(y_test)\n"
   ]
  },
  {
   "cell_type": "markdown",
   "id": "6e47e547",
   "metadata": {},
   "source": [
    "### 7. Tiền xử lý dữ liệu đặc trưng"
   ]
  },
  {
   "cell_type": "code",
   "execution_count": null,
   "id": "213cc88c",
   "metadata": {},
   "outputs": [],
   "source": [
    "\n",
    "# Áp dụng tiền xử lý\n",
    "X_train_processed = preprocessor.fit_transform(X_train)\n",
    "X_test_processed = preprocessor.transform(X_test)\n"
   ]
  },
  {
   "cell_type": "markdown",
   "id": "1679dd1a",
   "metadata": {},
   "source": [
    "### 8. Định nghĩa các mô hình"
   ]
  },
  {
   "cell_type": "code",
   "execution_count": null,
   "id": "036af7a8",
   "metadata": {},
   "outputs": [],
   "source": [
    "\n",
    "# Định nghĩa các mô hình hồi quy\n",
    "linear_model = LinearRegression()\n",
    "ridge_model = Ridge(alpha=1.0)\n",
    "stacking_model = StackingRegressor(\n",
    "    estimators=[('lr', linear_model), ('ridge', ridge_model)],\n",
    "    final_estimator=DecisionTreeRegressor(max_depth=5)\n",
    ")\n"
   ]
  },
  {
   "cell_type": "markdown",
   "id": "6b7312e2",
   "metadata": {},
   "source": [
    "### 9. Huấn luyện và đánh giá mô hình"
   ]
  },
  {
   "cell_type": "code",
   "execution_count": null,
   "id": "6827e236",
   "metadata": {},
   "outputs": [],
   "source": [
    "\n",
    "# Tạo từ điển để lưu kết quả\n",
    "results = {}\n",
    "\n",
    "# Huấn luyện và đánh giá Linear Regression\n",
    "linear_model.fit(X_train_processed, y_train_log)\n",
    "y_pred_linear_log = linear_model.predict(X_test_processed)\n",
    "results['Linear Regression'] = {\n",
    "    'MSE': mean_squared_error(y_test_log, y_pred_linear_log),\n",
    "    'R2': r2_score(y_test_log, y_pred_linear_log)\n",
    "}\n",
    "\n",
    "# Huấn luyện và đánh giá Ridge Regression\n",
    "ridge_model.fit(X_train_processed, y_train_log)\n",
    "y_pred_ridge_log = ridge_model.predict(X_test_processed)\n",
    "results['Ridge Regression'] = {\n",
    "    'MSE': mean_squared_error(y_test_log, y_pred_ridge_log),\n",
    "    'R2': r2_score(y_test_log, y_pred_ridge_log)\n",
    "}\n",
    "\n",
    "# Huấn luyện và đánh giá Stacking Model\n",
    "stacking_model.fit(X_train_processed, y_train_log)\n",
    "y_pred_stacking_log = stacking_model.predict(X_test_processed)\n",
    "results['Stacking Model'] = {\n",
    "    'MSE': mean_squared_error(y_test_log, y_pred_stacking_log),\n",
    "    'R2': r2_score(y_test_log, y_pred_stacking_log)\n",
    "}\n"
   ]
  },
  {
   "cell_type": "markdown",
   "id": "2a429f3d",
   "metadata": {},
   "source": [
    "### 10. Hiển thị kết quả"
   ]
  },
  {
   "cell_type": "code",
   "execution_count": null,
   "id": "1faf0578",
   "metadata": {},
   "outputs": [],
   "source": [
    "\n",
    "# Chuyển đổi kết quả thành DataFrame và hiển thị\n",
    "results_df = pd.DataFrame(results).T\n",
    "results_df\n"
   ]
  },
  {
   "cell_type": "markdown",
   "id": "5dd3514a",
   "metadata": {},
   "source": [
    "### 11. Huấn luyện MLPRegressor và vẽ biểu đồ hàm mất mát"
   ]
  },
  {
   "cell_type": "code",
   "execution_count": null,
   "id": "7780098e",
   "metadata": {},
   "outputs": [],
   "source": [
    "\n",
    "# Huấn luyện MLP với lịch sử mất mát\n",
    "mlp_model = MLPRegressor(hidden_layer_sizes=(64, 32), max_iter=1000, random_state=42, warm_start=True)\n",
    "mlp_model.fit(X_train_processed, y_train_log)\n",
    "\n",
    "# Lấy hàm mất mát sau mỗi lần lặp\n",
    "loss_curve = mlp_model.loss_curve_\n",
    "\n",
    "# Vẽ biểu đồ hàm mất mát\n",
    "plt.figure(figsize=(10, 5))\n",
    "plt.plot(range(1, len(loss_curve) + 1), loss_curve, label='Loss')\n",
    "plt.xlabel(\"Epoch\")\n",
    "plt.ylabel(\"Loss\")\n",
    "plt.title(\"Biểu đồ hàm mất mát của MLP\")\n",
    "plt.legend()\n",
    "plt.show()\n"
   ]
  },
  {
   "cell_type": "markdown",
   "id": "d6910c56",
   "metadata": {},
   "source": [
    "### 12. Biểu đồ so sánh MSE và $R^2$ của các mô hình"
   ]
  },
  {
   "cell_type": "code",
   "execution_count": null,
   "id": "228a8487",
   "metadata": {},
   "outputs": [],
   "source": [
    "\n",
    "# Thêm MLP vào bảng kết quả và đánh giá\n",
    "y_pred_mlp_log = mlp_model.predict(X_test_processed)\n",
    "results['MLP Regressor'] = {\n",
    "    'MSE': mean_squared_error(y_test_log, y_pred_mlp_log),\n",
    "    'R2': r2_score(y_test_log, y_pred_mlp_log)\n",
    "}\n",
    "\n",
    "# Chuyển đổi kết quả thành DataFrame\n",
    "results_df = pd.DataFrame(results).T\n",
    "\n",
    "# Vẽ biểu đồ so sánh MSE\n",
    "plt.figure(figsize=(12, 5))\n",
    "plt.subplot(1, 2, 1)\n",
    "results_df['MSE'].plot(kind='bar', color='skyblue')\n",
    "plt.title(\"So sánh MSE của các mô hình\")\n",
    "plt.ylabel(\"MSE\")\n",
    "plt.xticks(rotation=45)\n",
    "\n",
    "# Vẽ biểu đồ so sánh R2\n",
    "plt.subplot(1, 2, 2)\n",
    "results_df['R2'].plot(kind='bar', color='salmon')\n",
    "plt.title(\"So sánh $R^2$ của các mô hình\")\n",
    "plt.ylabel(\"$R^2$\")\n",
    "plt.xticks(rotation=45)\n",
    "\n",
    "plt.tight_layout()\n",
    "plt.show()\n"
   ]
  }
 ],
 "metadata": {},
 "nbformat": 4,
 "nbformat_minor": 5
}
